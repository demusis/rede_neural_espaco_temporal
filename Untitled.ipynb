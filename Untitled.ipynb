{
 "cells": [
  {
   "cell_type": "code",
   "execution_count": 1,
   "metadata": {},
   "outputs": [],
   "source": [
    "import pyKriging\n",
    "from pyKriging.krige import kriging\n",
    "from pyKriging.samplingplan import samplingplan\n",
    "from pyKriging.testfunctions import testfunctions"
   ]
  },
  {
   "cell_type": "code",
   "execution_count": 2,
   "metadata": {},
   "outputs": [
    {
     "name": "stdout",
     "output_type": "stream",
     "text": [
      "Now_optimizing_for_q = 1 \n",
      "\n",
      "Now_optimizing_for_q = 2 \n",
      "\n",
      "Now_optimizing_for_q = 5 \n",
      "\n",
      "Now_optimizing_for_q = 10 \n",
      "\n",
      "Now_optimizing_for_q = 20 \n",
      "\n",
      "Now_optimizing_for_q = 50 \n",
      "\n",
      "Now_optimizing_for_q = 100 \n",
      "\n",
      "Best_lh_found_using_q = 5 \n",
      "\n"
     ]
    },
    {
     "data": {
      "text/plain": [
       "array([[0.63333333, 0.5       , 0.56666667],\n",
       "       [0.83333333, 0.36666667, 0.9       ],\n",
       "       [0.23333333, 0.83333333, 0.63333333],\n",
       "       [0.36666667, 0.9       , 0.1       ],\n",
       "       [0.43333333, 0.7       , 0.96666667],\n",
       "       [0.1       , 0.16666667, 0.83333333],\n",
       "       [0.96666667, 0.76666667, 0.7       ],\n",
       "       [0.7       , 0.96666667, 0.43333333],\n",
       "       [0.9       , 0.56666667, 0.23333333],\n",
       "       [0.76666667, 0.1       , 0.3       ],\n",
       "       [0.16666667, 0.63333333, 0.36666667],\n",
       "       [0.3       , 0.23333333, 0.5       ],\n",
       "       [0.56666667, 0.03333333, 0.76666667],\n",
       "       [0.03333333, 0.3       , 0.16666667],\n",
       "       [0.5       , 0.43333333, 0.03333333]])"
      ]
     },
     "execution_count": 2,
     "metadata": {},
     "output_type": "execute_result"
    }
   ],
   "source": [
    "sp = samplingplan(3)\n",
    "X = sp.optimallhc(15)\n",
    "X"
   ]
  },
  {
   "cell_type": "code",
   "execution_count": 3,
   "metadata": {},
   "outputs": [],
   "source": [
    "testfun = testfunctions().squared"
   ]
  },
  {
   "cell_type": "code",
   "execution_count": 4,
   "metadata": {},
   "outputs": [
    {
     "data": {
      "text/plain": [
       "array([0.55652693, 0.88112933, 0.698212  , 0.67720832, 0.86586501,\n",
       "       0.60804788, 0.99149158, 0.86586501, 0.7232258 , 0.54031884,\n",
       "       0.40926764, 0.25549516, 0.64355782, 0.23746345, 0.37822686])"
      ]
     },
     "execution_count": 4,
     "metadata": {},
     "output_type": "execute_result"
    }
   ],
   "source": [
    "y = testfun(X)\n",
    "y"
   ]
  },
  {
   "cell_type": "code",
   "execution_count": 5,
   "metadata": {},
   "outputs": [],
   "source": [
    "k = kriging(X, y, testfunction=testfun, testPoints=300)"
   ]
  },
  {
   "cell_type": "code",
   "execution_count": 6,
   "metadata": {},
   "outputs": [],
   "source": [
    "\n",
    "k.train()"
   ]
  },
  {
   "cell_type": "code",
   "execution_count": 7,
   "metadata": {},
   "outputs": [],
   "source": [
    "k.snapshot()"
   ]
  },
  {
   "cell_type": "code",
   "execution_count": 8,
   "metadata": {},
   "outputs": [
    {
     "name": "stdout",
     "output_type": "stream",
     "text": [
      "0\n",
      "Infill iteration 1\n",
      "Adding point [0. 1. 1.]\n",
      "Adding point [1. 1. 0.]\n",
      "Adding point [1. 0. 0.]\n",
      "Adding point [0. 1. 0.]\n",
      "Adding point [1. 1. 1.]\n",
      "Adding point [1. 0. 1.]\n",
      "Adding point [0.21368508 0.         0.        ]\n",
      "Adding point [0.         0.         0.50505102]\n",
      "Adding point [1.         0.         0.60530266]\n",
      "Adding point [0.        0.5941518 1.       ]\n",
      "0.9856997174463983\n",
      "Infill iteration 2\n",
      "Adding point [0.24204635 0.         1.        ]\n",
      "Adding point [0.73482401 0.79056871 0.        ]\n",
      "Adding point [0.         1.         0.46899796]\n",
      "Adding point [0.62413983 1.         1.        ]\n",
      "Adding point [1.         0.30173004 0.        ]\n",
      "Adding point [1.         0.56445714 1.        ]\n",
      "Adding point [0.56124819 1.         0.        ]\n",
      "Adding point [0.81436409 0.85351259 1.        ]\n",
      "Adding point [0.6222991 0.        0.       ]\n",
      "Adding point [0.68948628 0.1841194  1.        ]\n",
      "0.9993097089996191\n",
      "Infill iteration 3\n",
      "Adding point [0.4168836  0.         0.21056407]\n",
      "Adding point [0. 0. 1.]\n",
      "Adding point [0.         0.67742671 0.        ]\n",
      "Adding point [0.30557928 1.         1.        ]\n",
      "Adding point [0. 0. 0.]\n",
      "Adding point [0.53568292 0.83192126 0.28276186]\n",
      "Adding point [0.49682224 0.28139092 1.        ]\n",
      "Adding point [0.46780646 1.         0.72897586]\n",
      "Adding point [0.08831086 0.90825624 0.        ]\n",
      "Adding point [0.86117623 1.         0.1297996 ]\n",
      "0.9980985695809261\n",
      "Infill iteration 4\n",
      "Adding point [0.         0.41581107 0.69391052]\n",
      "Adding point [1.         0.23322715 0.81127484]\n",
      "Adding point [0.         0.50923901 0.        ]\n",
      "Adding point [1.         0.40309981 0.35024231]\n",
      "Adding point [0.         0.12773915 0.        ]\n",
      "Adding point [0.24619778 0.4514662  1.        ]\n",
      "Adding point [1.         0.69980699 0.        ]\n",
      "Adding point [1.         0.91074836 0.42265101]\n",
      "Adding point [0.         0.79121757 0.2248929 ]\n",
      "Adding point [1.        0.4813103 0.       ]\n",
      "0.9997763427573034\n",
      "Infill iteration 5\n",
      "Adding point [0.         0.04831252 0.23596726]\n",
      "Adding point [0.         0.94438144 0.83496356]\n",
      "Adding point [1.         1.         0.77198274]\n",
      "Adding point [0.         0.31323081 1.        ]\n",
      "Adding point [0.24714899 0.77029089 0.        ]\n",
      "Adding point [1.         0.15619832 0.14066526]\n",
      "Adding point [0.77927752 0.62845361 0.82823995]\n",
      "Adding point [0.         0.79851371 1.        ]\n",
      "Adding point [0.41808952 0.19431574 0.        ]\n",
      "Adding point [0.         0.73526036 0.66889452]\n"
     ]
    }
   ],
   "source": [
    "for i in range(5):\n",
    "    print(k.history['rsquared'][-1])\n",
    "    print('Infill iteration {0}'.format(i + 1))\n",
    "    infillPoints = k.infill(10)\n",
    "\n",
    "    # Evaluate the infill points and add them back to the Kriging model\n",
    "    for point in infillPoints:\n",
    "        print('Adding point {}'.format(point))\n",
    "        k.addPoint(point, testfun(point)[0])\n",
    "\n",
    "    # Retrain the model with the new points added in to the model\n",
    "    k.train()\n",
    "    k.snapshot()"
   ]
  },
  {
   "cell_type": "code",
   "execution_count": 9,
   "metadata": {},
   "outputs": [
    {
     "ename": "ModuleNotFoundError",
     "evalue": "No module named 'mayavi'",
     "output_type": "error",
     "traceback": [
      "\u001b[1;31m---------------------------------------------------------------------------\u001b[0m",
      "\u001b[1;31mModuleNotFoundError\u001b[0m                       Traceback (most recent call last)",
      "\u001b[1;32m<ipython-input-9-1e5043de53a6>\u001b[0m in \u001b[0;36m<module>\u001b[1;34m\u001b[0m\n\u001b[1;32m----> 1\u001b[1;33m \u001b[0mk\u001b[0m\u001b[1;33m.\u001b[0m\u001b[0mplot\u001b[0m\u001b[1;33m(\u001b[0m\u001b[1;33m)\u001b[0m\u001b[1;33m\u001b[0m\u001b[1;33m\u001b[0m\u001b[0m\n\u001b[0m",
      "\u001b[1;32mC:\\ProgramData\\Anaconda3\\envs\\tensorflow2.0\\lib\\site-packages\\pyKriging\\krige.py\u001b[0m in \u001b[0;36mplot\u001b[1;34m(self, labels, show)\u001b[0m\n\u001b[0;32m    477\u001b[0m         '''\n\u001b[0;32m    478\u001b[0m         \u001b[1;32mif\u001b[0m \u001b[0mself\u001b[0m\u001b[1;33m.\u001b[0m\u001b[0mk\u001b[0m \u001b[1;33m==\u001b[0m \u001b[1;36m3\u001b[0m\u001b[1;33m:\u001b[0m\u001b[1;33m\u001b[0m\u001b[1;33m\u001b[0m\u001b[0m\n\u001b[1;32m--> 479\u001b[1;33m             \u001b[1;32mimport\u001b[0m \u001b[0mmayavi\u001b[0m\u001b[1;33m.\u001b[0m\u001b[0mmlab\u001b[0m \u001b[1;32mas\u001b[0m \u001b[0mmlab\u001b[0m\u001b[1;33m\u001b[0m\u001b[1;33m\u001b[0m\u001b[0m\n\u001b[0m\u001b[0;32m    480\u001b[0m \u001b[1;33m\u001b[0m\u001b[0m\n\u001b[0;32m    481\u001b[0m             \u001b[0mpredictFig\u001b[0m \u001b[1;33m=\u001b[0m \u001b[0mmlab\u001b[0m\u001b[1;33m.\u001b[0m\u001b[0mfigure\u001b[0m\u001b[1;33m(\u001b[0m\u001b[0mfigure\u001b[0m\u001b[1;33m=\u001b[0m\u001b[1;34m'predict'\u001b[0m\u001b[1;33m)\u001b[0m\u001b[1;33m\u001b[0m\u001b[1;33m\u001b[0m\u001b[0m\n",
      "\u001b[1;31mModuleNotFoundError\u001b[0m: No module named 'mayavi'"
     ]
    }
   ],
   "source": [
    "k.plot()"
   ]
  },
  {
   "cell_type": "code",
   "execution_count": null,
   "metadata": {},
   "outputs": [],
   "source": []
  },
  {
   "cell_type": "code",
   "execution_count": null,
   "metadata": {},
   "outputs": [],
   "source": []
  }
 ],
 "metadata": {
  "kernelspec": {
   "display_name": "Python 3",
   "language": "python",
   "name": "python3"
  },
  "language_info": {
   "codemirror_mode": {
    "name": "ipython",
    "version": 3
   },
   "file_extension": ".py",
   "mimetype": "text/x-python",
   "name": "python",
   "nbconvert_exporter": "python",
   "pygments_lexer": "ipython3",
   "version": "3.7.7"
  }
 },
 "nbformat": 4,
 "nbformat_minor": 4
}

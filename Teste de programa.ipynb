{
 "cells": [
  {
   "cell_type": "code",
   "execution_count": 1,
   "metadata": {},
   "outputs": [],
   "source": [
    "from time import perf_counter\n",
    "import numpy as np\n",
    "import pandas as pd\n",
    "from ClassRedeNeural import RedeNeural\n",
    "from ClassMatrix import Matrix"
   ]
  },
  {
   "cell_type": "code",
   "execution_count": 2,
   "metadata": {},
   "outputs": [],
   "source": [
    "#inicio = perf_counter()"
   ]
  },
  {
   "cell_type": "code",
   "execution_count": 3,
   "metadata": {},
   "outputs": [],
   "source": [
    "#dados = pd.DataFrame(100*np.random.rand(100, 5)-100, columns=list(['ta', 'tr', 'vel','rh','pmvg']))\n",
    "dados = pd.read_csv('var_comf.csv')  "
   ]
  },
  {
   "cell_type": "code",
   "execution_count": 4,
   "metadata": {
    "scrolled": true
   },
   "outputs": [
    {
     "data": {
      "text/html": [
       "<div>\n",
       "<style scoped>\n",
       "    .dataframe tbody tr th:only-of-type {\n",
       "        vertical-align: middle;\n",
       "    }\n",
       "\n",
       "    .dataframe tbody tr th {\n",
       "        vertical-align: top;\n",
       "    }\n",
       "\n",
       "    .dataframe thead th {\n",
       "        text-align: right;\n",
       "    }\n",
       "</style>\n",
       "<table border=\"1\" class=\"dataframe\">\n",
       "  <thead>\n",
       "    <tr style=\"text-align: right;\">\n",
       "      <th></th>\n",
       "      <th>Unnamed: 0</th>\n",
       "      <th>ta</th>\n",
       "      <th>tr</th>\n",
       "      <th>vel</th>\n",
       "      <th>rh</th>\n",
       "      <th>et</th>\n",
       "      <th>set</th>\n",
       "      <th>tsens</th>\n",
       "      <th>disc</th>\n",
       "      <th>pd</th>\n",
       "      <th>ps</th>\n",
       "      <th>pts</th>\n",
       "      <th>pmvg</th>\n",
       "      <th>pmvstar</th>\n",
       "    </tr>\n",
       "  </thead>\n",
       "  <tbody>\n",
       "    <tr>\n",
       "      <th>0</th>\n",
       "      <td>1</td>\n",
       "      <td>17.875052</td>\n",
       "      <td>24.895888</td>\n",
       "      <td>-0.692281</td>\n",
       "      <td>58.065561</td>\n",
       "      <td>21.981826</td>\n",
       "      <td>20.861131</td>\n",
       "      <td>-0.229355</td>\n",
       "      <td>0.000000</td>\n",
       "      <td>11.551568</td>\n",
       "      <td>76.916602</td>\n",
       "      <td>-0.814717</td>\n",
       "      <td>-0.313611</td>\n",
       "      <td>-0.337041</td>\n",
       "    </tr>\n",
       "    <tr>\n",
       "      <th>1</th>\n",
       "      <td>2</td>\n",
       "      <td>23.141801</td>\n",
       "      <td>21.258593</td>\n",
       "      <td>0.560814</td>\n",
       "      <td>71.997352</td>\n",
       "      <td>22.702384</td>\n",
       "      <td>18.804716</td>\n",
       "      <td>-0.399957</td>\n",
       "      <td>0.000000</td>\n",
       "      <td>81.735497</td>\n",
       "      <td>144.120550</td>\n",
       "      <td>-1.328821</td>\n",
       "      <td>-0.535111</td>\n",
       "      <td>-0.600058</td>\n",
       "    </tr>\n",
       "    <tr>\n",
       "      <th>2</th>\n",
       "      <td>3</td>\n",
       "      <td>20.176685</td>\n",
       "      <td>21.980561</td>\n",
       "      <td>0.039880</td>\n",
       "      <td>28.267342</td>\n",
       "      <td>20.984609</td>\n",
       "      <td>19.811775</td>\n",
       "      <td>-0.329176</td>\n",
       "      <td>0.000000</td>\n",
       "      <td>9.902727</td>\n",
       "      <td>86.486701</td>\n",
       "      <td>-1.077056</td>\n",
       "      <td>-0.477624</td>\n",
       "      <td>-0.562575</td>\n",
       "    </tr>\n",
       "    <tr>\n",
       "      <th>3</th>\n",
       "      <td>4</td>\n",
       "      <td>23.785561</td>\n",
       "      <td>23.984184</td>\n",
       "      <td>0.590108</td>\n",
       "      <td>97.004564</td>\n",
       "      <td>24.530829</td>\n",
       "      <td>20.840525</td>\n",
       "      <td>-0.187671</td>\n",
       "      <td>0.000000</td>\n",
       "      <td>82.619793</td>\n",
       "      <td>128.248940</td>\n",
       "      <td>-0.819869</td>\n",
       "      <td>-0.214838</td>\n",
       "      <td>-0.154784</td>\n",
       "    </tr>\n",
       "    <tr>\n",
       "      <th>4</th>\n",
       "      <td>5</td>\n",
       "      <td>28.274683</td>\n",
       "      <td>29.078981</td>\n",
       "      <td>0.073404</td>\n",
       "      <td>93.330322</td>\n",
       "      <td>32.076850</td>\n",
       "      <td>31.709729</td>\n",
       "      <td>1.186545</td>\n",
       "      <td>2.566018</td>\n",
       "      <td>4.101494</td>\n",
       "      <td>-8.767248</td>\n",
       "      <td>1.897432</td>\n",
       "      <td>1.564756</td>\n",
       "      <td>2.619768</td>\n",
       "    </tr>\n",
       "    <tr>\n",
       "      <th>...</th>\n",
       "      <td>...</td>\n",
       "      <td>...</td>\n",
       "      <td>...</td>\n",
       "      <td>...</td>\n",
       "      <td>...</td>\n",
       "      <td>...</td>\n",
       "      <td>...</td>\n",
       "      <td>...</td>\n",
       "      <td>...</td>\n",
       "      <td>...</td>\n",
       "      <td>...</td>\n",
       "      <td>...</td>\n",
       "      <td>...</td>\n",
       "      <td>...</td>\n",
       "    </tr>\n",
       "    <tr>\n",
       "      <th>95</th>\n",
       "      <td>96</td>\n",
       "      <td>21.536714</td>\n",
       "      <td>23.699726</td>\n",
       "      <td>0.533429</td>\n",
       "      <td>28.616973</td>\n",
       "      <td>22.108664</td>\n",
       "      <td>18.256914</td>\n",
       "      <td>-0.512806</td>\n",
       "      <td>0.000000</td>\n",
       "      <td>87.445404</td>\n",
       "      <td>141.231061</td>\n",
       "      <td>-1.465772</td>\n",
       "      <td>-0.704890</td>\n",
       "      <td>-1.012440</td>\n",
       "    </tr>\n",
       "    <tr>\n",
       "      <th>96</th>\n",
       "      <td>97</td>\n",
       "      <td>25.638456</td>\n",
       "      <td>25.500386</td>\n",
       "      <td>1.208920</td>\n",
       "      <td>35.518708</td>\n",
       "      <td>25.346972</td>\n",
       "      <td>20.644118</td>\n",
       "      <td>-0.255484</td>\n",
       "      <td>0.000000</td>\n",
       "      <td>192.615054</td>\n",
       "      <td>134.592544</td>\n",
       "      <td>-0.868971</td>\n",
       "      <td>-0.289178</td>\n",
       "      <td>-0.688809</td>\n",
       "    </tr>\n",
       "    <tr>\n",
       "      <th>97</th>\n",
       "      <td>98</td>\n",
       "      <td>27.384707</td>\n",
       "      <td>30.306281</td>\n",
       "      <td>0.331822</td>\n",
       "      <td>13.812333</td>\n",
       "      <td>27.718731</td>\n",
       "      <td>25.325161</td>\n",
       "      <td>0.438420</td>\n",
       "      <td>0.354900</td>\n",
       "      <td>24.209804</td>\n",
       "      <td>37.700460</td>\n",
       "      <td>0.301290</td>\n",
       "      <td>0.633710</td>\n",
       "      <td>0.012371</td>\n",
       "    </tr>\n",
       "    <tr>\n",
       "      <th>98</th>\n",
       "      <td>99</td>\n",
       "      <td>15.928489</td>\n",
       "      <td>19.051890</td>\n",
       "      <td>0.438977</td>\n",
       "      <td>20.893942</td>\n",
       "      <td>16.941617</td>\n",
       "      <td>12.415817</td>\n",
       "      <td>-1.073833</td>\n",
       "      <td>-1.073833</td>\n",
       "      <td>96.729307</td>\n",
       "      <td>190.565415</td>\n",
       "      <td>-2.926046</td>\n",
       "      <td>-1.637557</td>\n",
       "      <td>-1.894572</td>\n",
       "    </tr>\n",
       "    <tr>\n",
       "      <th>99</th>\n",
       "      <td>100</td>\n",
       "      <td>27.125394</td>\n",
       "      <td>26.770337</td>\n",
       "      <td>0.714822</td>\n",
       "      <td>75.131751</td>\n",
       "      <td>27.569708</td>\n",
       "      <td>23.828293</td>\n",
       "      <td>0.104136</td>\n",
       "      <td>0.172986</td>\n",
       "      <td>73.111217</td>\n",
       "      <td>96.818681</td>\n",
       "      <td>-0.072927</td>\n",
       "      <td>0.185387</td>\n",
       "      <td>0.109062</td>\n",
       "    </tr>\n",
       "  </tbody>\n",
       "</table>\n",
       "<p>100 rows × 14 columns</p>\n",
       "</div>"
      ],
      "text/plain": [
       "    Unnamed: 0         ta         tr       vel         rh         et  \\\n",
       "0            1  17.875052  24.895888 -0.692281  58.065561  21.981826   \n",
       "1            2  23.141801  21.258593  0.560814  71.997352  22.702384   \n",
       "2            3  20.176685  21.980561  0.039880  28.267342  20.984609   \n",
       "3            4  23.785561  23.984184  0.590108  97.004564  24.530829   \n",
       "4            5  28.274683  29.078981  0.073404  93.330322  32.076850   \n",
       "..         ...        ...        ...       ...        ...        ...   \n",
       "95          96  21.536714  23.699726  0.533429  28.616973  22.108664   \n",
       "96          97  25.638456  25.500386  1.208920  35.518708  25.346972   \n",
       "97          98  27.384707  30.306281  0.331822  13.812333  27.718731   \n",
       "98          99  15.928489  19.051890  0.438977  20.893942  16.941617   \n",
       "99         100  27.125394  26.770337  0.714822  75.131751  27.569708   \n",
       "\n",
       "          set     tsens      disc          pd          ps       pts      pmvg  \\\n",
       "0   20.861131 -0.229355  0.000000   11.551568   76.916602 -0.814717 -0.313611   \n",
       "1   18.804716 -0.399957  0.000000   81.735497  144.120550 -1.328821 -0.535111   \n",
       "2   19.811775 -0.329176  0.000000    9.902727   86.486701 -1.077056 -0.477624   \n",
       "3   20.840525 -0.187671  0.000000   82.619793  128.248940 -0.819869 -0.214838   \n",
       "4   31.709729  1.186545  2.566018    4.101494   -8.767248  1.897432  1.564756   \n",
       "..        ...       ...       ...         ...         ...       ...       ...   \n",
       "95  18.256914 -0.512806  0.000000   87.445404  141.231061 -1.465772 -0.704890   \n",
       "96  20.644118 -0.255484  0.000000  192.615054  134.592544 -0.868971 -0.289178   \n",
       "97  25.325161  0.438420  0.354900   24.209804   37.700460  0.301290  0.633710   \n",
       "98  12.415817 -1.073833 -1.073833   96.729307  190.565415 -2.926046 -1.637557   \n",
       "99  23.828293  0.104136  0.172986   73.111217   96.818681 -0.072927  0.185387   \n",
       "\n",
       "     pmvstar  \n",
       "0  -0.337041  \n",
       "1  -0.600058  \n",
       "2  -0.562575  \n",
       "3  -0.154784  \n",
       "4   2.619768  \n",
       "..       ...  \n",
       "95 -1.012440  \n",
       "96 -0.688809  \n",
       "97  0.012371  \n",
       "98 -1.894572  \n",
       "99  0.109062  \n",
       "\n",
       "[100 rows x 14 columns]"
      ]
     },
     "execution_count": 4,
     "metadata": {},
     "output_type": "execute_result"
    }
   ],
   "source": [
    "dados = dados[:100]\n",
    "dados"
   ]
  },
  {
   "cell_type": "code",
   "execution_count": 5,
   "metadata": {},
   "outputs": [
    {
     "name": "stdout",
     "output_type": "stream",
     "text": [
      "WARNING:tensorflow:From C:\\Users\\kauea\\Google Drive\\Kaue Arima Doutorado Fisica Ambiental\\Programas Criados\\Progama Python\\rede_neural_espaco_temporal\\ClassRedeNeural.py:124: The name tf.estimator.inputs is deprecated. Please use tf.compat.v1.estimator.inputs instead.\n",
      "\n",
      "WARNING:tensorflow:From C:\\Users\\kauea\\Google Drive\\Kaue Arima Doutorado Fisica Ambiental\\Programas Criados\\Progama Python\\rede_neural_espaco_temporal\\ClassRedeNeural.py:124: The name tf.estimator.inputs.pandas_input_fn is deprecated. Please use tf.compat.v1.estimator.inputs.pandas_input_fn instead.\n",
      "\n",
      "INFO:tensorflow:Using default config.\n",
      "WARNING:tensorflow:Using temporary folder as model directory: C:\\Users\\kauea\\AppData\\Local\\Temp\\tmpbf4i0a6p\n",
      "INFO:tensorflow:Using config: {'_model_dir': 'C:\\\\Users\\\\kauea\\\\AppData\\\\Local\\\\Temp\\\\tmpbf4i0a6p', '_tf_random_seed': None, '_save_summary_steps': 100, '_save_checkpoints_steps': None, '_save_checkpoints_secs': 600, '_session_config': allow_soft_placement: true\n",
      "graph_options {\n",
      "  rewrite_options {\n",
      "    meta_optimizer_iterations: ONE\n",
      "  }\n",
      "}\n",
      ", '_keep_checkpoint_max': 5, '_keep_checkpoint_every_n_hours': 10000, '_log_step_count_steps': 100, '_train_distribute': None, '_device_fn': None, '_protocol': None, '_eval_distribute': None, '_experimental_distribute': None, '_experimental_max_worker_delay_secs': None, '_session_creation_timeout_secs': 7200, '_service': None, '_cluster_spec': <tensorflow.python.training.server_lib.ClusterSpec object at 0x0000022D25B47748>, '_task_type': 'worker', '_task_id': 0, '_global_id_in_cluster': 0, '_master': '', '_evaluation_master': '', '_is_chief': True, '_num_ps_replicas': 0, '_num_worker_replicas': 1}\n",
      "WARNING:tensorflow:From C:\\ProgramData\\Anaconda3\\envs\\tensorflow2.0\\lib\\site-packages\\tensorflow_core\\python\\ops\\resource_variable_ops.py:1630: calling BaseResourceVariable.__init__ (from tensorflow.python.ops.resource_variable_ops) with constraint is deprecated and will be removed in a future version.\n",
      "Instructions for updating:\n",
      "If using Keras pass *_constraint arguments to layers.\n",
      "WARNING:tensorflow:From C:\\ProgramData\\Anaconda3\\envs\\tensorflow2.0\\lib\\site-packages\\tensorflow_core\\python\\training\\training_util.py:236: Variable.initialized_value (from tensorflow.python.ops.variables) is deprecated and will be removed in a future version.\n",
      "Instructions for updating:\n",
      "Use Variable.read_value. Variables in 2.X are initialized automatically both in eager and graph (inside tf.defun) contexts.\n",
      "WARNING:tensorflow:From C:\\ProgramData\\Anaconda3\\envs\\tensorflow2.0\\lib\\site-packages\\tensorflow_estimator\\python\\estimator\\inputs\\queues\\feeding_queue_runner.py:62: QueueRunner.__init__ (from tensorflow.python.training.queue_runner_impl) is deprecated and will be removed in a future version.\n",
      "Instructions for updating:\n",
      "To construct input pipelines, use the `tf.data` module.\n",
      "WARNING:tensorflow:From C:\\ProgramData\\Anaconda3\\envs\\tensorflow2.0\\lib\\site-packages\\tensorflow_estimator\\python\\estimator\\inputs\\queues\\feeding_functions.py:500: add_queue_runner (from tensorflow.python.training.queue_runner_impl) is deprecated and will be removed in a future version.\n",
      "Instructions for updating:\n",
      "To construct input pipelines, use the `tf.data` module.\n",
      "INFO:tensorflow:Calling model_fn.\n",
      "WARNING:tensorflow:Layer dnn is casting an input tensor from dtype float64 to the layer's dtype of float32, which is new behavior in TensorFlow 2.  The layer has dtype float32 because it's dtype defaults to floatx.\n",
      "\n",
      "If you intended to run this layer in float32, you can safely ignore this warning. If in doubt, this warning is likely only an issue if you are porting a TensorFlow 1.X model to TensorFlow 2.\n",
      "\n",
      "To change all layers to have dtype float64 by default, call `tf.keras.backend.set_floatx('float64')`. To change just this layer, pass dtype='float64' to the layer constructor. If you are the author of this layer, you can disable autocasting by passing autocast=False to the base Layer constructor.\n",
      "\n",
      "WARNING:tensorflow:From C:\\ProgramData\\Anaconda3\\envs\\tensorflow2.0\\lib\\site-packages\\tensorflow_estimator\\python\\estimator\\head\\regression_head.py:156: to_float (from tensorflow.python.ops.math_ops) is deprecated and will be removed in a future version.\n",
      "Instructions for updating:\n",
      "Use `tf.cast` instead.\n",
      "WARNING:tensorflow:From C:\\ProgramData\\Anaconda3\\envs\\tensorflow2.0\\lib\\site-packages\\tensorflow_core\\python\\keras\\optimizer_v2\\adagrad.py:108: calling Constant.__init__ (from tensorflow.python.ops.init_ops) with dtype is deprecated and will be removed in a future version.\n",
      "Instructions for updating:\n",
      "Call initializer instance with the dtype argument instead of passing it to the constructor\n",
      "INFO:tensorflow:Done calling model_fn.\n",
      "INFO:tensorflow:Create CheckpointSaverHook.\n",
      "INFO:tensorflow:Graph was finalized.\n",
      "INFO:tensorflow:Running local_init_op.\n",
      "INFO:tensorflow:Done running local_init_op.\n",
      "WARNING:tensorflow:From C:\\ProgramData\\Anaconda3\\envs\\tensorflow2.0\\lib\\site-packages\\tensorflow_core\\python\\training\\monitored_session.py:882: start_queue_runners (from tensorflow.python.training.queue_runner_impl) is deprecated and will be removed in a future version.\n",
      "Instructions for updating:\n",
      "To construct input pipelines, use the `tf.data` module.\n",
      "INFO:tensorflow:Saving checkpoints for 0 into C:\\Users\\kauea\\AppData\\Local\\Temp\\tmpbf4i0a6p\\model.ckpt.\n",
      "INFO:tensorflow:loss = 0.4406272, step = 0\n",
      "INFO:tensorflow:Saving checkpoints for 10 into C:\\Users\\kauea\\AppData\\Local\\Temp\\tmpbf4i0a6p\\model.ckpt.\n",
      "INFO:tensorflow:Loss for final step: 0.41339684.\n",
      "INFO:tensorflow:Calling model_fn.\n",
      "WARNING:tensorflow:Layer dnn is casting an input tensor from dtype float64 to the layer's dtype of float32, which is new behavior in TensorFlow 2.  The layer has dtype float32 because it's dtype defaults to floatx.\n",
      "\n",
      "If you intended to run this layer in float32, you can safely ignore this warning. If in doubt, this warning is likely only an issue if you are porting a TensorFlow 1.X model to TensorFlow 2.\n",
      "\n",
      "To change all layers to have dtype float64 by default, call `tf.keras.backend.set_floatx('float64')`. To change just this layer, pass dtype='float64' to the layer constructor. If you are the author of this layer, you can disable autocasting by passing autocast=False to the base Layer constructor.\n",
      "\n",
      "INFO:tensorflow:Done calling model_fn.\n",
      "INFO:tensorflow:Graph was finalized.\n",
      "INFO:tensorflow:Restoring parameters from C:\\Users\\kauea\\AppData\\Local\\Temp\\tmpbf4i0a6p\\model.ckpt-10\n",
      "INFO:tensorflow:Running local_init_op.\n",
      "INFO:tensorflow:Done running local_init_op.\n",
      "INFO:tensorflow:Calling model_fn.\n",
      "WARNING:tensorflow:Layer dnn is casting an input tensor from dtype float64 to the layer's dtype of float32, which is new behavior in TensorFlow 2.  The layer has dtype float32 because it's dtype defaults to floatx.\n",
      "\n",
      "If you intended to run this layer in float32, you can safely ignore this warning. If in doubt, this warning is likely only an issue if you are porting a TensorFlow 1.X model to TensorFlow 2.\n",
      "\n",
      "To change all layers to have dtype float64 by default, call `tf.keras.backend.set_floatx('float64')`. To change just this layer, pass dtype='float64' to the layer constructor. If you are the author of this layer, you can disable autocasting by passing autocast=False to the base Layer constructor.\n",
      "\n",
      "INFO:tensorflow:Done calling model_fn.\n",
      "INFO:tensorflow:Graph was finalized.\n",
      "INFO:tensorflow:Restoring parameters from C:\\Users\\kauea\\AppData\\Local\\Temp\\tmpbf4i0a6p\\model.ckpt-10\n",
      "INFO:tensorflow:Running local_init_op.\n",
      "INFO:tensorflow:Done running local_init_op.\n"
     ]
    }
   ],
   "source": [
    "redeneural = RedeNeural(dados,\"RedeNeural-Principal\")"
   ]
  },
  {
   "cell_type": "code",
   "execution_count": 6,
   "metadata": {},
   "outputs": [],
   "source": [
    "redeneural.salvaDadosXLSX()"
   ]
  },
  {
   "cell_type": "code",
   "execution_count": 7,
   "metadata": {},
   "outputs": [
    {
     "data": {
      "text/plain": [
       "0.3870526945721518"
      ]
     },
     "execution_count": 7,
     "metadata": {},
     "output_type": "execute_result"
    }
   ],
   "source": [
    "redeneural.getMediaAbsolutaErroTodos()"
   ]
  },
  {
   "cell_type": "code",
   "execution_count": 8,
   "metadata": {},
   "outputs": [
    {
     "name": "stdout",
     "output_type": "stream",
     "text": [
      "INFO:tensorflow:Calling model_fn.\n",
      "WARNING:tensorflow:Layer dnn is casting an input tensor from dtype float64 to the layer's dtype of float32, which is new behavior in TensorFlow 2.  The layer has dtype float32 because it's dtype defaults to floatx.\n",
      "\n",
      "If you intended to run this layer in float32, you can safely ignore this warning. If in doubt, this warning is likely only an issue if you are porting a TensorFlow 1.X model to TensorFlow 2.\n",
      "\n",
      "To change all layers to have dtype float64 by default, call `tf.keras.backend.set_floatx('float64')`. To change just this layer, pass dtype='float64' to the layer constructor. If you are the author of this layer, you can disable autocasting by passing autocast=False to the base Layer constructor.\n",
      "\n",
      "INFO:tensorflow:Done calling model_fn.\n",
      "INFO:tensorflow:Starting evaluation at 2020-07-12T20:37:09Z\n",
      "INFO:tensorflow:Graph was finalized.\n",
      "INFO:tensorflow:Restoring parameters from C:\\Users\\kauea\\AppData\\Local\\Temp\\tmpbf4i0a6p\\model.ckpt-10\n",
      "INFO:tensorflow:Running local_init_op.\n",
      "INFO:tensorflow:Done running local_init_op.\n",
      "INFO:tensorflow:Finished evaluation at 2020-07-12-20:37:09\n",
      "INFO:tensorflow:Saving dict for global step 10: average_loss = 0.32571846, global_step = 10, label/mean = -0.27139112, loss = 0.32571846, prediction/mean = -0.024001276\n",
      "INFO:tensorflow:Saving 'checkpoint_path' summary for global step 10: C:\\Users\\kauea\\AppData\\Local\\Temp\\tmpbf4i0a6p\\model.ckpt-10\n"
     ]
    },
    {
     "data": {
      "text/plain": [
       "{'average_loss': 0.32571846,\n",
       " 'label/mean': -0.27139112,\n",
       " 'loss': 0.32571846,\n",
       " 'prediction/mean': -0.024001276,\n",
       " 'global_step': 10}"
      ]
     },
     "execution_count": 8,
     "metadata": {},
     "output_type": "execute_result"
    }
   ],
   "source": [
    "redeneural.getEvaluateInputFuncTeste()"
   ]
  },
  {
   "cell_type": "code",
   "execution_count": 9,
   "metadata": {},
   "outputs": [
    {
     "data": {
      "text/plain": [
       "0.755458468274248"
      ]
     },
     "execution_count": 9,
     "metadata": {},
     "output_type": "execute_result"
    }
   ],
   "source": [
    "redeneural.getErroQuadradoTeste()"
   ]
  },
  {
   "cell_type": "code",
   "execution_count": 10,
   "metadata": {},
   "outputs": [],
   "source": [
    "matrix = Matrix(['ta', 'tr','vel','rh','pmvg','predictions_pmvg','posicaoX','posicaoY'],redeneural)"
   ]
  },
  {
   "cell_type": "code",
   "execution_count": 48,
   "metadata": {},
   "outputs": [
    {
     "data": {
      "text/plain": [
       "[17.8750515429135, 24.8958879733875, -0.6922812177868299, 58.065561104480494]"
      ]
     },
     "execution_count": 48,
     "metadata": {},
     "output_type": "execute_result"
    }
   ],
   "source": [
    "dados2 = list(dados.loc[0,['ta', 'tr','vel','rh']])\n",
    "dados2"
   ]
  },
  {
   "cell_type": "code",
   "execution_count": 49,
   "metadata": {},
   "outputs": [
    {
     "data": {
      "text/html": [
       "<div>\n",
       "<style scoped>\n",
       "    .dataframe tbody tr th:only-of-type {\n",
       "        vertical-align: middle;\n",
       "    }\n",
       "\n",
       "    .dataframe tbody tr th {\n",
       "        vertical-align: top;\n",
       "    }\n",
       "\n",
       "    .dataframe thead th {\n",
       "        text-align: right;\n",
       "    }\n",
       "</style>\n",
       "<table border=\"1\" class=\"dataframe\">\n",
       "  <thead>\n",
       "    <tr style=\"text-align: right;\">\n",
       "      <th></th>\n",
       "      <th>ta</th>\n",
       "      <th>tr</th>\n",
       "      <th>vel</th>\n",
       "      <th>rh</th>\n",
       "    </tr>\n",
       "  </thead>\n",
       "  <tbody>\n",
       "    <tr>\n",
       "      <th>0</th>\n",
       "      <td>17.875052</td>\n",
       "      <td>24.895888</td>\n",
       "      <td>-0.692281</td>\n",
       "      <td>58.065561</td>\n",
       "    </tr>\n",
       "  </tbody>\n",
       "</table>\n",
       "</div>"
      ],
      "text/plain": [
       "          ta         tr       vel         rh\n",
       "0  17.875052  24.895888 -0.692281  58.065561"
      ]
     },
     "execution_count": 49,
     "metadata": {},
     "output_type": "execute_result"
    }
   ],
   "source": [
    "dados2 = pd.DataFrame(data=[dados2], columns=['ta', 'tr','vel','rh'])\n",
    "dados2"
   ]
  },
  {
   "cell_type": "code",
   "execution_count": 50,
   "metadata": {
    "scrolled": true
   },
   "outputs": [
    {
     "name": "stdout",
     "output_type": "stream",
     "text": [
      "INFO:tensorflow:Calling model_fn.\n",
      "WARNING:tensorflow:Layer dnn is casting an input tensor from dtype float64 to the layer's dtype of float32, which is new behavior in TensorFlow 2.  The layer has dtype float32 because it's dtype defaults to floatx.\n",
      "\n",
      "If you intended to run this layer in float32, you can safely ignore this warning. If in doubt, this warning is likely only an issue if you are porting a TensorFlow 1.X model to TensorFlow 2.\n",
      "\n",
      "To change all layers to have dtype float64 by default, call `tf.keras.backend.set_floatx('float64')`. To change just this layer, pass dtype='float64' to the layer constructor. If you are the author of this layer, you can disable autocasting by passing autocast=False to the base Layer constructor.\n",
      "\n",
      "INFO:tensorflow:Done calling model_fn.\n",
      "INFO:tensorflow:Graph was finalized.\n",
      "INFO:tensorflow:Restoring parameters from C:\\Users\\kauea\\AppData\\Local\\Temp\\tmpbf4i0a6p\\model.ckpt-10\n",
      "INFO:tensorflow:Running local_init_op.\n",
      "INFO:tensorflow:Done running local_init_op.\n"
     ]
    }
   ],
   "source": [
    "pmvg = redeneural.predicaoElemento(dados2)"
   ]
  },
  {
   "cell_type": "code",
   "execution_count": 51,
   "metadata": {},
   "outputs": [
    {
     "data": {
      "text/plain": [
       "[{'predictions': array([0.34761015], dtype=float32)}]"
      ]
     },
     "execution_count": 51,
     "metadata": {},
     "output_type": "execute_result"
    }
   ],
   "source": [
    "pmvg"
   ]
  },
  {
   "cell_type": "code",
   "execution_count": 52,
   "metadata": {},
   "outputs": [
    {
     "data": {
      "text/html": [
       "<div>\n",
       "<style scoped>\n",
       "    .dataframe tbody tr th:only-of-type {\n",
       "        vertical-align: middle;\n",
       "    }\n",
       "\n",
       "    .dataframe tbody tr th {\n",
       "        vertical-align: top;\n",
       "    }\n",
       "\n",
       "    .dataframe thead th {\n",
       "        text-align: right;\n",
       "    }\n",
       "</style>\n",
       "<table border=\"1\" class=\"dataframe\">\n",
       "  <thead>\n",
       "    <tr style=\"text-align: right;\">\n",
       "      <th></th>\n",
       "      <th>ta</th>\n",
       "      <th>tr</th>\n",
       "      <th>vel</th>\n",
       "      <th>rh</th>\n",
       "      <th>predictions_pmvg</th>\n",
       "      <th>pmvg</th>\n",
       "    </tr>\n",
       "  </thead>\n",
       "  <tbody>\n",
       "    <tr>\n",
       "      <th>0</th>\n",
       "      <td>17.875052</td>\n",
       "      <td>24.895888</td>\n",
       "      <td>-0.692281</td>\n",
       "      <td>58.065561</td>\n",
       "      <td>0.34761</td>\n",
       "      <td>-0.313611</td>\n",
       "    </tr>\n",
       "  </tbody>\n",
       "</table>\n",
       "</div>"
      ],
      "text/plain": [
       "          ta         tr       vel         rh  predictions_pmvg      pmvg\n",
       "0  17.875052  24.895888 -0.692281  58.065561           0.34761 -0.313611"
      ]
     },
     "execution_count": 52,
     "metadata": {},
     "output_type": "execute_result"
    }
   ],
   "source": [
    "dados2['predictions_pmvg'] = pmvg[0]['predictions'][0]\n",
    "dados2['pmvg'] = dados.loc[0,['pmvg']]['pmvg']\n",
    "dados2['posicaoX'] = 1\n",
    "dados2['posicaoY'] = 1\n",
    "dados2"
   ]
  },
  {
   "cell_type": "code",
   "execution_count": null,
   "metadata": {},
   "outputs": [],
   "source": [
    "matrix.setLinhaMatrix(dados2)"
   ]
  }
 ],
 "metadata": {
  "kernelspec": {
   "display_name": "Python 3",
   "language": "python",
   "name": "python3"
  },
  "language_info": {
   "codemirror_mode": {
    "name": "ipython",
    "version": 3
   },
   "file_extension": ".py",
   "mimetype": "text/x-python",
   "name": "python",
   "nbconvert_exporter": "python",
   "pygments_lexer": "ipython3",
   "version": "3.7.7"
  }
 },
 "nbformat": 4,
 "nbformat_minor": 4
}
